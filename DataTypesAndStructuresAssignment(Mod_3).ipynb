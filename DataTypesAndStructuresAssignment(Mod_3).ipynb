{
  "nbformat": 4,
  "nbformat_minor": 0,
  "metadata": {
    "colab": {
      "provenance": []
    },
    "kernelspec": {
      "name": "python3",
      "display_name": "Python 3"
    },
    "language_info": {
      "name": "python"
    }
  },
  "cells": [
    {
      "cell_type": "code",
      "execution_count": null,
      "metadata": {
        "id": "OszoCdcD1MD2"
      },
      "outputs": [],
      "source": []
    },
    {
      "cell_type": "markdown",
      "source": [
        "1. What are data structures, and why are they important?\n",
        "- A data structure is a specialized format for organizing,storing and managing data. They are important because the use of right data structure makes different operations more efficient in terms of speed as well as space and easier to manage.\n",
        "\n",
        "2. Explain the difference between mutable and immutable data types with examples.\n",
        "- Mutable data types are the ones which can be modified after creation\n",
        "  \n",
        "  ex- ls=[1,2,3]\n",
        "      ls[0]=100\n",
        "      This modifies the list 1st index that is 1 to 100\n",
        "- Immutable objects are the ones that cannot be modified after their creation and if any changes are made then new object is created.\n",
        "   \n",
        "   ex- my_tuple = (1, 2, 3)\n",
        "   my_tuple[0] = 100\n",
        "   This will raise a TypeError\n",
        "\n",
        "   "
      ],
      "metadata": {
        "id": "Vw8Y4vmP1Y03"
      }
    },
    {
      "cell_type": "markdown",
      "source": [
        "3. What are the main differences between lists and tuples in Python?\n",
        "\n",
        "- List is initialised with square brackets [] whereas tuple is initialised with parenthesis ()\n",
        "- Lists are mutable and tuple are immutable\n",
        "- List is slower due to dynamic size and tuple is more efficient"
      ],
      "metadata": {
        "id": "vhjrC6zVBCS6"
      }
    },
    {
      "cell_type": "markdown",
      "source": [
        "4. Describe how dictionaries store data\n",
        "\n",
        "- Dictionaries store data in key-value pairs. Each piece of data (the value) is associated with a unique identifier (the key)\n",
        "\n",
        "- Keys must be unique and immutable\n",
        "- values can be of any type and can be duplicated\n",
        "\n",
        "  ex- person = {'name': 'Alice', 'age': 30}\n"
      ],
      "metadata": {
        "id": "acHa_Q-aBn4F"
      }
    },
    {
      "cell_type": "markdown",
      "source": [
        "5. Why might you use a set instead of a list in Python?\n",
        "\n",
        "- We use set when we want group of unique elements from the collection of items\n",
        "\n",
        "- we use set when we want to check whether an item is present in a set which is faster as compared to that of checking in list"
      ],
      "metadata": {
        "id": "v93tGKCzEJEk"
      }
    },
    {
      "cell_type": "markdown",
      "source": [
        "6. What is a string in Python, and how is it different from a list?\n",
        "\n",
        "- A string is an immutable sequence of characters.\n",
        "\n",
        "- The key differences from a list are:\n",
        "\n",
        "    - Immutability: You cannot change a character in a string after it's created. You must create a new string to \"modify\" it.\n",
        "\n",
        "    - Content Type: A string can only contain characters, whereas a list can contain a mix of different data types (integers, other lists, etc.)."
      ],
      "metadata": {
        "id": "T3JKYF2iE4NU"
      }
    },
    {
      "cell_type": "markdown",
      "source": [
        "7. How do tuples ensure data integrity in Python?\n",
        "- Tuple ensure data integrity through immutability as the elements in tuple cannot be modified after creation thus making it resistant to change.\n"
      ],
      "metadata": {
        "id": "bSc9DUyOF0zW"
      }
    },
    {
      "cell_type": "markdown",
      "source": [
        "8. What is a hash table, and how does it relate to dictionaries in Python?\n",
        "- A Hash table is a highly efficient data structure that maps keys to values and it uses a special function to calculate the index value used to store the key at that particular postion\n",
        "\n",
        "- Dictionaries are implemented using Hash Tables which uses the Hash function to find out the index where the keys are stored making the operations of addition,deletion and updation in O(1) time thus helping to find out the value of the key instantly."
      ],
      "metadata": {
        "id": "DkvzC60NPfmw"
      }
    },
    {
      "cell_type": "markdown",
      "source": [
        "9. Can lists contain different data types in Python?\n",
        "\n",
        "- es. Python lists are very flexible and can hold elements of various data types within the same list.\n",
        "  - ex- mixed_list = [10, \"Hello\", 3.14, True, [1, 2]]"
      ],
      "metadata": {
        "id": "FhQF9M1qQgNo"
      }
    },
    {
      "cell_type": "markdown",
      "source": [
        "10. Explain why strings are immutable in Python.\n",
        "\n",
        "- String are immutable due to the following reasons:-\n",
        "\n",
        "  - String value can't be changed, multiple pointers pointing to the same string share the same memory block\n",
        "\n",
        "  - Immutable nature of string makes it suitable to use as dictionaries\n",
        "\n",
        "  - when we pass string to a function as parameter then we can be sure that the value does not change"
      ],
      "metadata": {
        "id": "PPW-fXRJQqSM"
      }
    },
    {
      "cell_type": "markdown",
      "source": [
        "11. What advantages do dictionaries offer over lists for certain tasks?\n",
        "\n",
        "- The primary advantage of dictionary over list is the fast retrieval operations of dictionary in O(1) time whereas the same operation take place in O(n) time for inserting  an element at nth position"
      ],
      "metadata": {
        "id": "2A-6FIzeR-qW"
      }
    },
    {
      "cell_type": "markdown",
      "source": [
        "12. Describe a scenario where using a tuple would be preferable over a list.\n",
        "\n",
        "- A perfect scenario is for storing a collection of fixed data that represents a single entity, such as geographic coordinates.\n",
        "\n",
        " - ex- coord=(1.2,4.5), represent coordinate which is particular type\n",
        "\n",
        " - The main reason include-\n",
        "    \n",
        "    - Immutability prevent accidental change\n",
        "    - Fixed size\n",
        "    - slightly memory efficient than list\n",
        "\n",
        "   "
      ],
      "metadata": {
        "id": "VonuVJQDSeyo"
      }
    },
    {
      "cell_type": "markdown",
      "source": [
        "13. How do sets handle duplicate values in Python?\n",
        "\n",
        "- Sets inherently do not allow duplicate values. If we try to add an element that is already in the set, the set simply remains unchanged. No error is raised."
      ],
      "metadata": {
        "id": "uvHMsFwUU157"
      }
    },
    {
      "cell_type": "markdown",
      "source": [
        "14. How does the “in” keyword work differently for lists and dictionaries?\n",
        "\n",
        "- For a list, the in keyword checks if a value exists in the list.\n",
        "  \n",
        "  ex- ls=[12,2,3]\n",
        "      print(12 in ls) It returns true\n",
        "- For a dictionary, the in keyword checks if a key exists in the dictionary. It does not check the values by default.\n",
        "   \n",
        "   ex- my_dict = {'a': 1, 'b': 2}\n",
        "       print('a' in my_dict) prints true"
      ],
      "metadata": {
        "id": "WLH47RHRWfXV"
      }
    },
    {
      "cell_type": "markdown",
      "source": [
        "15. Can you modify the elements of a tuple? Explain why or why not.\n",
        "\n",
        "- No, we cannot modify the elements of a tuple because tuples are immutable. Once a tuple is created, its structure and the elements it contains cannot be altered. Attempting to reassign an element will result in a TypeError"
      ],
      "metadata": {
        "id": "2F9g9W6CXBbQ"
      }
    },
    {
      "cell_type": "markdown",
      "source": [
        "16. What is a nested dictionary, and give an example of its use case?\n",
        "\n",
        "- A nested dictionary is a dictionary where one or more of the values are also dictionaries. This allows us to create complex hierarchical data structures.\n",
        "\n",
        "- A common use case is storing structured information, like a collection of employee records, where each employee has multiple attributes.\n",
        "\n",
        "- ex- employees = {\n",
        "    'emp101': {\n",
        "        'name': 'John Doe',\n",
        "        'position': 'Developer',\n",
        "        'contact': {'email': 'john.d@example.com', 'phone': '123-456-7890'}\n",
        "    },\n",
        "}"
      ],
      "metadata": {
        "id": "XkhTsnIMYBTz"
      }
    },
    {
      "cell_type": "markdown",
      "source": [
        " 17. Describe the time complexity of accessing elements in a dictionary\n",
        "  \n",
        "  - The time complexity for accessing, adding, or deleting an element in a Python dictionary is, on average, O(1), or constant time. This means the operation takes roughly the same amount of time regardless of how many items are in the dictionary thus making it efficient."
      ],
      "metadata": {
        "id": "hXqIcF4K75er"
      }
    },
    {
      "cell_type": "markdown",
      "source": [
        "18. In what situations are lists preferred over dictionaries?\n",
        "\n",
        "- Lists are preferred -\n",
        "   - When order of element matters\n",
        "   - we need inexing to access element\n",
        "   - when we need sequence of items without looking them up in a unique key."
      ],
      "metadata": {
        "id": "x3_KAEa7ZyWb"
      }
    },
    {
      "cell_type": "markdown",
      "source": [
        "19. Why are dictionaries considered unordered, and how does that affect data retrieval?\n",
        "\n",
        "- Dictionaries are considered unordered because they involve the use of hash function to calculate the index value on the basis of which the key are stored at a particular place."
      ],
      "metadata": {
        "id": "COAo-8CcaPll"
      }
    },
    {
      "cell_type": "markdown",
      "source": [
        "20. Explain the difference between a list and a dictionary in terms of data retrieval.\n",
        "\n",
        "- List: we retrieve data by its numerical position (index).\n",
        "\n",
        "  ex- my_list = ['apple', 'banana', 'cherry']\n",
        "  item = my_list[1]\n",
        "\n",
        "- Dictionary: You retrieve data by its unique label (key).\n",
        "\n",
        "  ex- my_dict = {'fruit': 'apple', 'color': 'red'}\n",
        "  item = my_dict['fruit']"
      ],
      "metadata": {
        "id": "8789bbyvbNcr"
      }
    },
    {
      "cell_type": "markdown",
      "source": [
        "# Practical Questions"
      ],
      "metadata": {
        "id": "SyhT99qg8haw"
      }
    },
    {
      "cell_type": "markdown",
      "source": [
        "1. Create a string with your name and print it"
      ],
      "metadata": {
        "id": "4R2HfbD9BoVS"
      }
    },
    {
      "cell_type": "code",
      "source": [
        "st=\"Aditya Kiran Pati\"\n",
        "print(st)"
      ],
      "metadata": {
        "colab": {
          "base_uri": "https://localhost:8080/"
        },
        "id": "mepWddNbBr9u",
        "outputId": "bf8877f0-f288-4abb-ee36-8d29f48287d4"
      },
      "execution_count": 1,
      "outputs": [
        {
          "output_type": "stream",
          "name": "stdout",
          "text": [
            "Aditya Kiran Pati\n"
          ]
        }
      ]
    },
    {
      "cell_type": "markdown",
      "source": [
        "2. Find the length of the string \"Hello World\"\n"
      ],
      "metadata": {
        "id": "Y6fE2suYCfm9"
      }
    },
    {
      "cell_type": "code",
      "source": [
        "st=\"Hello World\"\n",
        "print(len(st))"
      ],
      "metadata": {
        "colab": {
          "base_uri": "https://localhost:8080/"
        },
        "id": "Ibv9IktxClqG",
        "outputId": "e763f7a9-7702-4f7a-e04a-1d4353a2b6f8"
      },
      "execution_count": 2,
      "outputs": [
        {
          "output_type": "stream",
          "name": "stdout",
          "text": [
            "11\n"
          ]
        }
      ]
    },
    {
      "cell_type": "markdown",
      "source": [
        "3. Slice the first 3 characters from \"Python Programming\""
      ],
      "metadata": {
        "id": "jt5uARNtCuuQ"
      }
    },
    {
      "cell_type": "code",
      "source": [
        "text = \"Python Programming\"\n",
        "first_three = text[:3]\n",
        "print(first_three)"
      ],
      "metadata": {
        "colab": {
          "base_uri": "https://localhost:8080/"
        },
        "id": "ADA-ASDtC4Sw",
        "outputId": "1b6ce607-e702-420d-d0af-40a35ba3e64f"
      },
      "execution_count": 3,
      "outputs": [
        {
          "output_type": "stream",
          "name": "stdout",
          "text": [
            "Pyt\n"
          ]
        }
      ]
    },
    {
      "cell_type": "markdown",
      "source": [
        "4. Convert the string \"hello\" to uppercase"
      ],
      "metadata": {
        "id": "uFcB6TZBC_Zo"
      }
    },
    {
      "cell_type": "code",
      "source": [
        "text = \"hello\"\n",
        "uppercase_text = text.upper()\n",
        "print(uppercase_text)"
      ],
      "metadata": {
        "colab": {
          "base_uri": "https://localhost:8080/"
        },
        "id": "lWO5by3UDDGq",
        "outputId": "097fda8e-2aab-4b9d-d9d4-b855bf54541f"
      },
      "execution_count": 4,
      "outputs": [
        {
          "output_type": "stream",
          "name": "stdout",
          "text": [
            "HELLO\n"
          ]
        }
      ]
    },
    {
      "cell_type": "markdown",
      "source": [
        "5. Replace \"apple\" with \"orange\" in \"I like apple\""
      ],
      "metadata": {
        "id": "AJpahgLjDY7r"
      }
    },
    {
      "cell_type": "code",
      "source": [
        "text = \"I like apple\"\n",
        "new_text = text.replace(\"apple\", \"orange\")\n",
        "print(new_text)"
      ],
      "metadata": {
        "colab": {
          "base_uri": "https://localhost:8080/"
        },
        "id": "nWpru_WUDeQp",
        "outputId": "478a5278-3ae8-4850-9daa-6279a4e2d9d9"
      },
      "execution_count": 5,
      "outputs": [
        {
          "output_type": "stream",
          "name": "stdout",
          "text": [
            "I like orange\n"
          ]
        }
      ]
    },
    {
      "cell_type": "markdown",
      "source": [
        "6. Create a list with numbers 1 to 5 and print it"
      ],
      "metadata": {
        "id": "dia7kpuwDmBb"
      }
    },
    {
      "cell_type": "code",
      "source": [
        "my_list = [1, 2, 3, 4, 5]\n",
        "print(my_list)"
      ],
      "metadata": {
        "colab": {
          "base_uri": "https://localhost:8080/"
        },
        "id": "xUBqJznxDn4Q",
        "outputId": "ba54a516-0ac1-40d0-862f-83180b654b3f"
      },
      "execution_count": 6,
      "outputs": [
        {
          "output_type": "stream",
          "name": "stdout",
          "text": [
            "[1, 2, 3, 4, 5]\n"
          ]
        }
      ]
    },
    {
      "cell_type": "markdown",
      "source": [
        "7. Append the number 10 to the list [1, 2, 3, 4]\n"
      ],
      "metadata": {
        "id": "Ju7zdOArDuMc"
      }
    },
    {
      "cell_type": "code",
      "source": [
        "my_list = [1, 2, 3, 4]\n",
        "my_list.append(10)\n",
        "print(my_list)"
      ],
      "metadata": {
        "colab": {
          "base_uri": "https://localhost:8080/"
        },
        "id": "unxUHL0-Dyob",
        "outputId": "c0e31a52-382a-4dbf-d69a-f65243a5eda9"
      },
      "execution_count": 7,
      "outputs": [
        {
          "output_type": "stream",
          "name": "stdout",
          "text": [
            "[1, 2, 3, 4, 10]\n"
          ]
        }
      ]
    },
    {
      "cell_type": "markdown",
      "source": [
        "8. Remove the number 3 from the list [1, 2, 3, 4, 5]"
      ],
      "metadata": {
        "id": "ouk6398rD91q"
      }
    },
    {
      "cell_type": "code",
      "source": [
        "my_list = [1, 2, 3, 4, 5]\n",
        "my_list.remove(3)\n",
        "print(my_list)"
      ],
      "metadata": {
        "colab": {
          "base_uri": "https://localhost:8080/"
        },
        "id": "ID872KKHEBPr",
        "outputId": "8a3a4c6b-6bc4-4006-fea7-9a854ffa8f5b"
      },
      "execution_count": 8,
      "outputs": [
        {
          "output_type": "stream",
          "name": "stdout",
          "text": [
            "[1, 2, 4, 5]\n"
          ]
        }
      ]
    },
    {
      "cell_type": "markdown",
      "source": [
        "9. Access the second element in the list ['a', 'b', 'c', 'd']"
      ],
      "metadata": {
        "id": "HpOnEuZaEEro"
      }
    },
    {
      "cell_type": "code",
      "source": [
        "my_list = ['a', 'b', 'c', 'd']\n",
        "second_element = my_list[1]\n",
        "print(second_element)"
      ],
      "metadata": {
        "id": "rCNOjxzOEINx"
      },
      "execution_count": null,
      "outputs": []
    },
    {
      "cell_type": "markdown",
      "source": [
        "10. Reverse the list [10, 20, 30, 40, 50]"
      ],
      "metadata": {
        "id": "d74ZQ1IOEMdE"
      }
    },
    {
      "cell_type": "code",
      "source": [
        "ls=[10,20,30,40,50]\n",
        "print(ls[::-1])"
      ],
      "metadata": {
        "colab": {
          "base_uri": "https://localhost:8080/"
        },
        "id": "nsSl1NsTEQL8",
        "outputId": "3f17aa44-bb5b-45f3-e212-72c11ab0e5fe"
      },
      "execution_count": 9,
      "outputs": [
        {
          "output_type": "stream",
          "name": "stdout",
          "text": [
            "[50, 40, 30, 20, 10]\n"
          ]
        }
      ]
    }
  ]
}