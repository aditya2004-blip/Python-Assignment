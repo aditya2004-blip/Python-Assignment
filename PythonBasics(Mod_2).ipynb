{
  "nbformat": 4,
  "nbformat_minor": 0,
  "metadata": {
    "colab": {
      "provenance": []
    },
    "kernelspec": {
      "name": "python3",
      "display_name": "Python 3"
    },
    "language_info": {
      "name": "python"
    }
  },
  "cells": [
    {
      "cell_type": "code",
      "execution_count": null,
      "metadata": {
        "id": "_EJ6lzz5vyob"
      },
      "outputs": [],
      "source": []
    },
    {
      "cell_type": "markdown",
      "source": [
        "1. What is Python, and why is it popular\n",
        "  - Python is a high level,interpreted language whihc emphasizes simple and readable code which is more like english like syntax thus making it more inclined towards human.\n",
        "  The reason why python is popular are:-\n",
        "\n",
        "      a.Easy to Learn\n",
        "\n",
        "      b.It is versatile as used in wide range of fields including web dev,Data Science,AI/ML,etc.\n",
        "\n",
        "      c. Wide range of Libraries and Frameworks\n",
        "\n",
        "      d.Massive ecosystem and Community support\n",
        "\n",
        "  \n"
      ],
      "metadata": {
        "id": "bKAAFa-OwTTZ"
      }
    },
    {
      "cell_type": "markdown",
      "source": [
        "2. What is an interpreter in Python?\n",
        " - An interpreter is a program that executes the code line by line and convert it into intermediate code or byte code which is executed immediately.\n"
      ],
      "metadata": {
        "id": "p-krchj8y9rU"
      }
    },
    {
      "cell_type": "markdown",
      "source": [
        "3. What are pre-defined keywords in Python?\n",
        "- These are the reserved keywords in python which have some special meaning and purpose and they cannot be used as varibale names in the code.\n",
        "some of the keywords include-if,else,for,while,class,import.\n",
        "\n"
      ],
      "metadata": {
        "id": "asgbA_E5zedO"
      }
    },
    {
      "cell_type": "markdown",
      "source": [
        "4. Can keywords be used as variable names?\n",
        "- No the keywords are reserved in python for special purpose and cannot be used as variable names and using them as variable will result in syntax error.\n"
      ],
      "metadata": {
        "id": "2HdnQXCjz33B"
      }
    },
    {
      "cell_type": "markdown",
      "source": [
        "5. What is mutability in Python?\n",
        "- Mutability usually refers to whether the state or contents of an object can be changed after it has been created, if it can be changed then the object is said to be mutable and if the state cannot be changed then it is said to be immutable.\n"
      ],
      "metadata": {
        "id": "YYELvsRe1KV9"
      }
    },
    {
      "cell_type": "markdown",
      "source": [
        "6. Why are lists mutable, but tuples are immutable?\n",
        "- Lists are said to be mutable because they are made to be dynamic in which the items can be added,removed or changed as per the need during the programe execution.\n",
        "- Tuples are said to be immutable becaused they are meant to keep a ordered collection of items in order to ensure faster operations and more memory efficient than lists basically storing key value pairs.\n"
      ],
      "metadata": {
        "id": "PghPkqjT1szF"
      }
    },
    {
      "cell_type": "markdown",
      "source": [
        "7. What is the difference between “==” and “is” operators in Python?\n",
        "- The == (equality) operator is used to comapre the values if 2 objects thus checking whether these 2 are equal or not\n",
        "\n",
        "- The is (Identity) operator is used to check the memory location of 2 objects in order to check if they are equal or not.\n",
        "\n"
      ],
      "metadata": {
        "id": "vbdfWzRy2qp9"
      }
    },
    {
      "cell_type": "markdown",
      "source": [
        "8. What are logical operators in python?\n",
        "- Logical operators are the ones which work at the bit level and are basically used to modify the conditional statements. There are 3 Logical operators:\n",
        "   \n",
        "   a. and:Returns true if both the conditions are true\n",
        "   \n",
        "   b. or: It return true if either of the condition is true\n",
        "\n",
        "   c. not: it reverses the result\n",
        "\n",
        "   "
      ],
      "metadata": {
        "id": "FnBw2MWw4olg"
      }
    },
    {
      "cell_type": "markdown",
      "source": [
        "9. What is Type Casting in Python?\n",
        "- Type casting refers to the changing of one data type to another data type which is done either implicitly or using the built-in-functions such as int(),float(),double(),etc.\n"
      ],
      "metadata": {
        "id": "GbxAvU5U5U-n"
      }
    },
    {
      "cell_type": "markdown",
      "source": [
        "10. What is the difference between implicit and explicit type casting?\n",
        "- Implicit Typecasting: It is the process in which the python interpreter automatically converts smaller data types into larger data types in order to prevent data loss.\n",
        "ex- 5+2.5=7.5, in which the answer is of float type\n",
        "\n",
        "- Explicit Typecasting: It is the manual conversion of one data type into another data type.\n",
        "It is obtained through built in functions like int(),Float(),Double(),etc.\n",
        "ex-converting integer into string\n",
        "124-> str(123) converts 123(int) into \"123\"(string)\n"
      ],
      "metadata": {
        "id": "t6UwM8Np5y6C"
      }
    },
    {
      "cell_type": "markdown",
      "source": [
        "11. What is the purpose of conditional statements in Python?\n",
        "- conditonal statements are the ones which help in controlling the flow of code by taking decisions thus executing block of code based upon whether the condition is true or false.\n",
        "it includes if,elif,else statements where first the if statement is checked then the elif statement and if none of them gets satisfied then the else part gets executed.\n"
      ],
      "metadata": {
        "id": "bUrzSQLJ6zZg"
      }
    },
    {
      "cell_type": "markdown",
      "source": [
        "12. How does the elif statement work?\n",
        "- Python first checks the if condition. If it's true, its code block is executed, and the entire if-elif-else chain is skipped.\n",
        "\n",
        "- If the if condition is false, Python moves to the first elif condition. If it's true, its code block is executed, and the rest of the chain is skipped.\n",
        "\n",
        "- This continues for any other elif statements.\n",
        "\n",
        "  If all if and elif conditions are false, the else block (if present) is executed.\n"
      ],
      "metadata": {
        "id": "x0nwskB37qUl"
      }
    },
    {
      "cell_type": "markdown",
      "source": [
        "13. What is the difference between for and while loops?\n",
        "- For: The for loop is used for iterating over a sequence of code when we know the number of iterations\n",
        "\n",
        "- while: This help in executing a set of code only if the condition is known but the number of iterations are not known.\n"
      ],
      "metadata": {
        "id": "ITal-PCM8EQh"
      }
    },
    {
      "cell_type": "markdown",
      "source": [],
      "metadata": {
        "id": "WJwl7Qk69cBv"
      }
    },
    {
      "cell_type": "markdown",
      "source": [
        "14. Describe a scenario where a while loop is more suitable than a for loop.\n",
        "- A while loop is ideal for situations where you  need to repeat an action an unknown number of times until a specific condition is met.\n",
        "\n",
        "- A classic scenario is validating user input. You want to keep asking the user for input until they provide a valid answer. You don't know if they will get it right on the first try or the tenth try."
      ],
      "metadata": {
        "id": "Qdtffaa99gm5"
      }
    },
    {
      "cell_type": "markdown",
      "source": [
        "**Practical** **Questions**"
      ],
      "metadata": {
        "id": "DnxOkCp0MXNY"
      }
    },
    {
      "cell_type": "code",
      "source": [
        "# 1. Write a Python program to print \"Hello, World!\"\n",
        "print(\"Hello, World!\")"
      ],
      "metadata": {
        "id": "e_WVV-pUMSrd"
      },
      "execution_count": null,
      "outputs": []
    },
    {
      "cell_type": "code",
      "source": [
        "# 2.Write a Python program that displays your name and age8\n",
        "\n",
        "name = input(\"Enter your name: \")\n",
        "age = input(\"Enter your age: \")\n",
        "\n",
        "print(f\"Your name is {name} and you are {age} years old.\")"
      ],
      "metadata": {
        "id": "m05OWklbNfNf"
      },
      "execution_count": null,
      "outputs": []
    },
    {
      "cell_type": "code",
      "source": [
        "# 3. Write code to print all the pre-defined keywords in Python using the keyword library\n",
        "import keyword\n",
        "print(keyword.kwlist)\n",
        "\n"
      ],
      "metadata": {
        "colab": {
          "base_uri": "https://localhost:8080/"
        },
        "id": "0SpBAaY_No5h",
        "outputId": "f549271e-8697-40fd-f9a9-d384f5d79ec8"
      },
      "execution_count": 1,
      "outputs": [
        {
          "output_type": "stream",
          "name": "stdout",
          "text": [
            "['False', 'None', 'True', 'and', 'as', 'assert', 'async', 'await', 'break', 'class', 'continue', 'def', 'del', 'elif', 'else', 'except', 'finally', 'for', 'from', 'global', 'if', 'import', 'in', 'is', 'lambda', 'nonlocal', 'not', 'or', 'pass', 'raise', 'return', 'try', 'while', 'with', 'yield']\n"
          ]
        }
      ]
    },
    {
      "cell_type": "code",
      "source": [
        "# 4. Write a program that checks if a given word is a Python keyword.\n",
        "import keyword\n",
        "word = input(\"Enter a word: \")\n",
        "\n",
        "if keyword.iskeyword(word):\n",
        "    print(f\"{word} is a Python keyword.\")\n",
        "else:\n",
        "    print(f\"{word} is not a Python keyword.\")\n"
      ],
      "metadata": {
        "id": "h7rVqSbROSMd"
      },
      "execution_count": null,
      "outputs": []
    },
    {
      "cell_type": "code",
      "source": [
        "# 5. Create a list and tuple in Python, and demonstrate how attempting to change an element works differently\n",
        "# for each.\n",
        "\n",
        "mylist=[\"Apple\",\"Banana\",1,2,3]\n",
        "print(\"Original List:\",mylist)\n",
        "\n",
        "# Modification\n",
        "mylist[0]=\"App\"\n",
        "print(\"Modified List:\",mylist)\n",
        "\n",
        "tup=(1,2,3,4,5,6)\n",
        "print(\"Original tuple:\",tup)\n",
        "\n",
        "# Modification\n",
        "try:\n",
        "  tup[0]=2\n",
        "except TypeError as e:\n",
        "  print(f\"Cannot modify tuple,Error:{e}\")"
      ],
      "metadata": {
        "colab": {
          "base_uri": "https://localhost:8080/"
        },
        "id": "dIcsldi50pJc",
        "outputId": "c92af36e-ef21-419a-beab-78d69160b772"
      },
      "execution_count": 1,
      "outputs": [
        {
          "output_type": "stream",
          "name": "stdout",
          "text": [
            "Original List: ['Apple', 'Banana', 1, 2, 3]\n",
            "Modified List: ['App', 'Banana', 1, 2, 3]\n",
            "Original tuple: (1, 2, 3, 4, 5, 6)\n",
            "Cannot modify tuple,Error:'tuple' object does not support item assignment\n"
          ]
        }
      ]
    },
    {
      "cell_type": "code",
      "source": [
        "# 6.Write a function to demonstrate the behavior of mutable and immutable arguments.\n",
        "def modify(lst,num):\n",
        "  lst.append(10)\n",
        "  num=10\n",
        "  print(\"Inside Function:\")\n",
        "  print(\"List:\",lst)\n",
        "  print(\"Number:\",num)\n",
        "\n",
        "lst=[1,2,3,4]\n",
        "num=20\n",
        "print(\"Before changing:\")\n",
        "print(\"List:\",lst)\n",
        "print(\"Number:\",num)\n",
        "modify(lst,num)\n",
        "print(\"After changing:\")\n",
        "print(\"List:\",lst)\n",
        "print(\"Number:\",num)\n",
        "# Numbers are immutable whereas list are mutable"
      ],
      "metadata": {
        "colab": {
          "base_uri": "https://localhost:8080/"
        },
        "id": "kzxTBfkh1wdS",
        "outputId": "369ce46f-6f2b-42fd-9304-0b0799e561b9"
      },
      "execution_count": 2,
      "outputs": [
        {
          "output_type": "stream",
          "name": "stdout",
          "text": [
            "Before changing:\n",
            "List: [1, 2, 3, 4]\n",
            "Number: 20\n",
            "Inside Function:\n",
            "List: [1, 2, 3, 4, 10]\n",
            "Number: 10\n",
            "After changing:\n",
            "List: [1, 2, 3, 4, 10]\n",
            "Number: 20\n"
          ]
        }
      ]
    },
    {
      "cell_type": "code",
      "source": [
        "# 7. Write a program that performs basic arithmetic operations on two user-input numbers.\n",
        "num1=int(input(\"Enter first number:\"))\n",
        "num2=int(input(\"Enter second number:\"))\n",
        "print(\"Addition:\",num1+num2)\n",
        "print(\"Subtraction:\",num1-num2)\n",
        "print(\"Multiplication:\",num1*num2)\n",
        "print(\"Division:\",num1/num2);\n",
        "print(\"Floor division\",num1//num2)\n",
        "print(\"Modulus\",num1%num2)\n",
        "print(\"Power\",num1**num2)"
      ],
      "metadata": {
        "colab": {
          "base_uri": "https://localhost:8080/"
        },
        "id": "RLlC7s_x4ttL",
        "outputId": "0b5dfa0a-1f69-40ec-d0f0-b70349177371"
      },
      "execution_count": 3,
      "outputs": [
        {
          "output_type": "stream",
          "name": "stdout",
          "text": [
            "Enter first number:20\n",
            "Enter second number:10\n",
            "Addition: 30\n",
            "Subtraction: 10\n",
            "Multiplication: 200\n",
            "Division: 2.0\n",
            "Floor division 2\n",
            "Modulus 0\n",
            "Power 10240000000000\n"
          ]
        }
      ]
    },
    {
      "cell_type": "code",
      "source": [
        "# 8. Write a program to demonstrate the use of logical operators.\n",
        "age = 25\n",
        "is_student = False\n",
        "\n",
        "if age > 18 and age < 30:\n",
        "    print(\"You are a young adult.\")\n",
        "\n",
        "if age < 18 or is_student:\n",
        "    print(\"You qualify for a student discount.\")\n",
        "else:\n",
        "    print(\"No student discount.\")\n",
        "\n",
        "if not is_student:\n",
        "    print(\"You are not currently a student.\")"
      ],
      "metadata": {
        "id": "MJKe62Zk5XXk"
      },
      "execution_count": null,
      "outputs": []
    },
    {
      "cell_type": "code",
      "source": [
        "# 9. Write a Python program to convert user input from string to integer, float, and boolean types.\n",
        "UserInput_int=int(input(\"Enter the numerical value\"))\n",
        "UserInput_float=float(input(\"Enter the floating point value\"))\n",
        "UserInput_bool=bool(input(\"Enter the boolean value\"))\n",
        "print(\"Integer Value is:\",UserInput_int)\n",
        "print(\"Float Value is:\",UserInput_float)\n",
        "print(\"Boolean Value is:\",UserInput_bool)"
      ],
      "metadata": {
        "id": "Nuwi3jwx5ite"
      },
      "execution_count": null,
      "outputs": []
    },
    {
      "cell_type": "code",
      "source": [
        "# 10. Write code to demonstrate type casting with list elements.\n",
        "lis=[\"10\",\"20\",\"30\",\"40\"]\n",
        "mod_lis=[int(num) for num in lis]\n",
        "print(mod_lis)\n",
        ""
      ],
      "metadata": {
        "colab": {
          "base_uri": "https://localhost:8080/"
        },
        "id": "0tTVHgV76nsm",
        "outputId": "1e8feb85-8d10-4e2c-9c47-52458063e79a"
      },
      "execution_count": 4,
      "outputs": [
        {
          "output_type": "stream",
          "name": "stdout",
          "text": [
            "[10, 20, 30, 40]\n"
          ]
        }
      ]
    },
    {
      "cell_type": "code",
      "source": [
        "# 11. Write a program that checks if a number is positive, negative, or zero.\n",
        "num=int(input(\"Enter a number:\"))\n",
        "if num>0:\n",
        "  print(\"Number is positive\")\n",
        "elif num<0:\n",
        "  print(\"Number is negative\")\n",
        "else:\n",
        "  print(\"Number is zero\")"
      ],
      "metadata": {
        "id": "WjCrgIYo8n4J"
      },
      "execution_count": null,
      "outputs": []
    },
    {
      "cell_type": "code",
      "source": [
        "# 12. Write a for loop to print numbers from 1 to 10.\n",
        "for i in range(1,11):\n",
        "  print(i)"
      ],
      "metadata": {
        "colab": {
          "base_uri": "https://localhost:8080/"
        },
        "id": "W5YK9vnJ8q8m",
        "outputId": "36f6976a-37e8-4cb9-9672-fee6604ccb08"
      },
      "execution_count": 5,
      "outputs": [
        {
          "output_type": "stream",
          "name": "stdout",
          "text": [
            "1\n",
            "2\n",
            "3\n",
            "4\n",
            "5\n",
            "6\n",
            "7\n",
            "8\n",
            "9\n",
            "10\n"
          ]
        }
      ]
    },
    {
      "cell_type": "code",
      "source": [
        "# 13. Write a Python program to find the sum of all even numbers between 1 and 50.\n",
        "total_sum = 0\n",
        "\n",
        "for number in range(1, 51):\n",
        "    if number % 2 == 0:\n",
        "        total_sum += number\n",
        "\n",
        "print(f\"The sum of all even numbers between 1 and 50 is: {total_sum}\")"
      ],
      "metadata": {
        "id": "2jVHmMXt9MZZ"
      },
      "execution_count": null,
      "outputs": []
    },
    {
      "cell_type": "code",
      "source": [
        "# 14. Write a program to reverse a string using a while loop.\n",
        "org=\"Hello\"\n",
        "rev_str=\"\"\n",
        "str_len=len(org)-1\n",
        "while str_len>=0:\n",
        "  rev_str+=org[str_len]\n",
        "  str_len-=1\n",
        "print(\"The reversed String is: \",rev_str)"
      ],
      "metadata": {
        "colab": {
          "base_uri": "https://localhost:8080/"
        },
        "id": "7TqPgLBr9k0v",
        "outputId": "e70eae69-ec3b-47a8-f7ab-c4406b93cd06"
      },
      "execution_count": 6,
      "outputs": [
        {
          "output_type": "stream",
          "name": "stdout",
          "text": [
            "The reversed String is:  olleH\n"
          ]
        }
      ]
    },
    {
      "cell_type": "code",
      "source": [
        "# 15. Write a Python program to calculate the factorial of a number provided by the user using a while loop.\n",
        "num = int(input(\"Enter a number: \"))\n",
        "factorial = 1\n",
        "i = 1\n",
        "\n",
        "if num < 0:\n",
        "    print(\"Factorial is not defined for negative numbers.\")\n",
        "elif num == 0:\n",
        "    print(\"The factorial of 0 is 1.\")\n",
        "else:\n",
        "    while i <= num:\n",
        "        factorial *= i\n",
        "        i += 1\n",
        "    print(f\"The factorial of {num} is {factorial}.\")"
      ],
      "metadata": {
        "id": "OGZkhtXy-Iqf"
      },
      "execution_count": null,
      "outputs": []
    }
  ]
}